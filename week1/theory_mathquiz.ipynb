{
 "cells": [
  {
   "cell_type": "code",
   "execution_count": 1,
   "metadata": {
    "pycharm": {
     "metadata": false,
     "name": "#%%\n"
    }
   },
   "outputs": [
    {
     "name": "stdout",
     "output_type": "stream",
     "text": [
      "Requirement already satisfied: numpy in c:\\users\\freja\\ideaprojects\\ml20\\venv\\lib\\site-packages (1.19.1)\n",
      "Requirement already satisfied: matplotlib in c:\\users\\freja\\ideaprojects\\ml20\\venv\\lib\\site-packages (3.3.1)\n",
      "Requirement already satisfied: cycler>=0.10 in c:\\users\\freja\\ideaprojects\\ml20\\venv\\lib\\site-packages (from matplotlib) (0.10.0)\n",
      "Requirement already satisfied: numpy>=1.15 in c:\\users\\freja\\ideaprojects\\ml20\\venv\\lib\\site-packages (from matplotlib) (1.19.1)\n",
      "Requirement already satisfied: certifi>=2020.06.20 in c:\\users\\freja\\ideaprojects\\ml20\\venv\\lib\\site-packages (from matplotlib) (2020.6.20)\n",
      "Requirement already satisfied: kiwisolver>=1.0.1 in c:\\users\\freja\\ideaprojects\\ml20\\venv\\lib\\site-packages (from matplotlib) (1.2.0)\n",
      "Requirement already satisfied: pyparsing!=2.0.4,!=2.1.2,!=2.1.6,>=2.0.3 in c:\\users\\freja\\ideaprojects\\ml20\\venv\\lib\\site-packages (from matplotlib) (2.4.7)\n",
      "Requirement already satisfied: pillow>=6.2.0 in c:\\users\\freja\\ideaprojects\\ml20\\venv\\lib\\site-packages (from matplotlib) (7.2.0)\n",
      "Requirement already satisfied: python-dateutil>=2.1 in c:\\users\\freja\\ideaprojects\\ml20\\venv\\lib\\site-packages (from matplotlib) (2.8.1)\n",
      "Requirement already satisfied: six in c:\\users\\freja\\ideaprojects\\ml20\\venv\\lib\\site-packages (from cycler>=0.10->matplotlib) (1.15.0)\n",
      "Requirement already satisfied: scikit-learn in c:\\users\\freja\\ideaprojects\\ml20\\venv\\lib\\site-packages (0.23.2)\n",
      "Requirement already satisfied: scipy>=0.19.1 in c:\\users\\freja\\ideaprojects\\ml20\\venv\\lib\\site-packages (from scikit-learn) (1.5.2)\n",
      "Requirement already satisfied: joblib>=0.11 in c:\\users\\freja\\ideaprojects\\ml20\\venv\\lib\\site-packages (from scikit-learn) (0.16.0)\n",
      "Requirement already satisfied: threadpoolctl>=2.0.0 in c:\\users\\freja\\ideaprojects\\ml20\\venv\\lib\\site-packages (from scikit-learn) (2.1.0)\n",
      "Requirement already satisfied: numpy>=1.13.3 in c:\\users\\freja\\ideaprojects\\ml20\\venv\\lib\\site-packages (from scikit-learn) (1.19.1)\n",
      "Requirement already satisfied: pandas in c:\\users\\freja\\ideaprojects\\ml20\\venv\\lib\\site-packages (1.1.1)\n",
      "Requirement already satisfied: pytz>=2017.2 in c:\\users\\freja\\ideaprojects\\ml20\\venv\\lib\\site-packages (from pandas) (2020.1)\n",
      "Requirement already satisfied: python-dateutil>=2.7.3 in c:\\users\\freja\\ideaprojects\\ml20\\venv\\lib\\site-packages (from pandas) (2.8.1)\n",
      "Requirement already satisfied: numpy>=1.15.4 in c:\\users\\freja\\ideaprojects\\ml20\\venv\\lib\\site-packages (from pandas) (1.19.1)\n",
      "Requirement already satisfied: six>=1.5 in c:\\users\\freja\\ideaprojects\\ml20\\venv\\lib\\site-packages (from python-dateutil>=2.7.3->pandas) (1.15.0)\n",
      "Requirement already satisfied: pydotplus in c:\\users\\freja\\ideaprojects\\ml20\\venv\\lib\\site-packages (2.0.2)\n",
      "Requirement already satisfied: pyparsing>=2.0.1 in c:\\users\\freja\\ideaprojects\\ml20\\venv\\lib\\site-packages (from pydotplus) (2.4.7)\n"
     ]
    }
   ],
   "source": [
    "!pip install numpy\n",
    "!pip install matplotlib\n",
    "!pip install scikit-learn\n",
    "!pip install pandas\n",
    "!pip install pydotplus"
   ]
  },
  {
   "cell_type": "markdown",
   "metadata": {
    "pycharm": {}
   },
   "source": [
    "# Math Quiz Exercise Week 1\n",
    "\n",
    "## Do the exercises by hand and then check the answers using python.\n",
    "\n",
    "\n",
    "**It is very imporant that you try to solve every exercise:** It is not important that you answer correctly. Spend no more than 5-10 min on each exercise. If you do not solve the exercise, focus on understanding the question, and try to figure out what it is you do not understand.\n",
    "\n",
    "The TA's will be very happy to answer questions during the TA session or on the board. \n",
    "\n",
    "**We have added code that should help you get going with python - execute the code in the order given here - they may depend on each other in that order.**\n",
    "\n"
   ]
  },
  {
   "cell_type": "markdown",
   "metadata": {
    "pycharm": {
     "name": "#%% md\n"
    }
   },
   "source": [
    "# Question 1\n",
    "## By hand\n",
    "Let $x=[1,2,3]^\\intercal$ and $\\theta = [2,3,4]^\\intercal$,  \n",
    "\n",
    "$x, \\theta$ are column vectors\n",
    "\n",
    "Compute the dot product $\\theta^\\intercal x$ by hand.\n",
    "\n",
    "$\\theta^\\intercal x = 1 \\cdot 2 + 2 \\cdot 3 + 3 \\cdot 4$ = 20\n",
    "\n",
    "## In code\n",
    "The following Python code represents the vectors 'x' and 'theta' as arrays using a library called NumPy. \n",
    "\n",
    "Read and understand the code. Use the code to check your answer from above.  \n",
    "\n",
    "You can run the code by CTRL+ENTER or SHIFT+ENTER from inside the code box. "
   ]
  },
  {
   "cell_type": "code",
<<<<<<< HEAD
   "execution_count": 2,
   "metadata": {
    "pycharm": {
     "name": "#%%\n"
    }
   },
=======
   "execution_count": 47,
   "metadata": {},
>>>>>>> ongoing
   "outputs": [
    {
     "name": "stdout",
     "output_type": "stream",
     "text": [
      "theta:\n",
      " [2 3 4]\n",
      "x:\n",
      " [1 2 3]\n",
      "shapes: (3,) (3,)\n",
      "\n",
      "Do calculation by hand and check with np.dot or np.sum and *\n",
      "\n",
      "Dot prod is 20\n"
     ]
    }
   ],
   "source": [
    "# NumPy is a Python library for efficient (vectorized) computations. \n",
    "import numpy as np # import library\n",
    "# For this question we numpy array to:\n",
    "#     1. represent the vectors 'theta' and 'x' as arrays.\n",
    "#     2. compute dot product and sum of 'theta' and 'x' (many solutions possible)\n",
    "\n",
    "# Represent the vectors as arrays. \n",
    "theta = np.array([2 ,3, 4]) \n",
    "x = np.array([1 ,2 ,3])\n",
    "\n",
    "# Print the NumPy array representation of 'x' and 'theta' and their shapes. \n",
    "print('theta:\\n', theta)\n",
    "print('x:\\n', x)\n",
    "print('shapes:', x.shape, theta.shape) \n",
    "print('\\nDo calculation by hand and check with np.dot or np.sum and *\\n')\n",
    "\n",
    "# Make a variable called 'dot_prod' and assign it the dot product of 'x' and 'theta'.\n",
    "dot_prod = np.dot(x, theta)\n",
    "dot_prod = sum(x*theta)\n",
    "\n",
    "print('Dot prod is {0}'.format(dot_prod))"
   ]
  },
  {
   "cell_type": "markdown",
   "metadata": {
    "pycharm": {
     "name": "#%% md\n"
    }
   },
   "source": [
    "# Question 2\n",
    "Using $x$ and $\\theta$, what is the outer product $x \\theta^\\intercal$ and its shape?\n",
    "\n",
    "Compute it first by hand, then check your answer by completing the Python code below. \n",
    "*hint: x.reshape(3,1) makes x a (3,1) matrix*\n",
    "\n",
    "## By hand\n",
    "\n",
    "$x \\times \\theta^\\intercal = \\begin{pmatrix}\n",
    "                    1 \\cdot 2 & 1 \\cdot 3 & 1 \\cdot 4 \\\\\n",
    "                    2 \\cdot 2 & 2 \\cdot 3 & 2 \\cdot 4 \\\\\n",
    "                    3 \\cdot 2 & 3 \\cdot 3 & 3 \\cdot 4\n",
    "                   \\end{pmatrix}\n",
    "                   = \\begin{pmatrix}\n",
    "                     2 & 3 & 4 \\\\\n",
    "                     4 & 6 & 8 \\\\\n",
    "                     6 & 9 & 12\n",
    "                   \\end{pmatrix}\n",
    "$\n",
    "\n",
    "$shape(x \\times \\theta^\\intercal) = (3,3)$"
   ]
  },
  {
   "cell_type": "code",
<<<<<<< HEAD
   "execution_count": 3,
   "metadata": {
    "pycharm": {
     "name": "#%%\n"
    }
   },
=======
   "execution_count": 48,
   "metadata": {},
>>>>>>> ongoing
   "outputs": [
    {
     "name": "stdout",
     "output_type": "stream",
     "text": [
      "x as 1 x 3 matrix:\n",
      " [[1 2 3]]\n",
      "Outer Product Shape Is (3, 3)\n",
      "Outer Prodcut Is:\n",
      " [[ 2  4  6]\n",
      " [ 3  6  9]\n",
      " [ 4  8 12]]\n"
     ]
    }
   ],
   "source": [
    "# Represent the vectors as arrays. \n",
    "theta = np.array([2, 3, 4])\n",
    "x = np.array([1, 2, 3])\n",
    "\n",
    "print('x as 1 x 3 matrix:\\n', x.reshape(1, 3))\n",
    "# Make a variable called 'outer_prod' and assign it the outer product of 'x' and 'theta'. \n",
    "outer_prod = np.zeros(0) # dummy array - may be of wrong shape\n",
    "\n",
    "outer_prod = np.array([x*theta[i] for i in range(3)])\n",
    "outer_prod = np.outer(x,theta)\n",
    "outer_prod = x.reshape(3,1) @ theta.reshape(1,3)\n",
    "\n",
    "# Prints the outer product and its shape. \n",
    "print('Outer Product Shape Is', outer_prod.shape)\n",
    "print('Outer Prodcut Is:\\n', outer_prod)\n"
   ]
  },
  {
   "cell_type": "markdown",
   "metadata": {
    "pycharm": {
     "name": "#%% md\n"
    }
   },
   "source": [
    "# Question 3\n",
    "## By hand\n",
    "\n",
    "Let $\\theta = [1, 1]^\\intercal$.\n",
    "Plot the <a href=\"https://en.wikipedia.org/wiki/Hyperplane\" target=\"_blank\">hyperplane</a> $\\theta^\\intercal x = 0$ in the range $[-2,2]$.\n",
    "\n",
    "$[1,1].[-2,y]^\\intercal=0 \\Rightarrow -2 + y = 0 \\Rightarrow y=2$\n",
    "\n",
    "$[1,1].[2,y]^\\intercal=0 \\Rightarrow 2 + y = 0 \\Rightarrow y=-2$\n",
    "\n",
    "Write $+$ on the side where $\\textrm{sign}(\\theta^\\intercal x) = +1$.\n",
    "\n",
    "## In code\n",
    "You should make the Python code below plot the hyperplane $\\theta^\\intercal x=0$ in the range $[-2, 2]$. \n",
    "\n",
    "This can be done by plotting the line segment $(-2, ?) \\rightarrow (2, ?)$. Your job is to fill in the two question marks such that the hyperplane is plotted correctly. In the code the line segment is represented by 'left_point' and 'right_point', and the question marks are represented by 'None'.  \n",
    "\n",
    "The variable 'plus_point' represents the plus indicator. It should be placed at either $(1,1)$ or $(-1, -1)$, you should figure out which. \n",
    "\n",
    "Start by reading and understanding the code. "
   ]
  },
  {
   "cell_type": "code",
<<<<<<< HEAD
   "execution_count": 4,
   "metadata": {
    "pycharm": {
     "name": "#%%\n"
    }
   },
=======
   "execution_count": 49,
   "metadata": {},
>>>>>>> ongoing
   "outputs": [
    {
     "data": {
      "text/plain": "<Figure size 432x288 with 1 Axes>",
      "image/png": "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\n"
     },
     "metadata": {
      "needs_background": "light"
     },
     "output_type": "display_data"
    }
   ],
   "source": [
    "# Ensure plots are in-line\n",
    "%matplotlib inline\n",
    "\n",
    "# MatplotLib is a library for plotting data. \n",
    "# Here we use it to:\n",
    "#     1. plot the hyperplane 'theta.T*x=0' (.T means transpose)\n",
    "#     2. plot the plus indicator at either (1,1) or (-1, -1). \n",
    "import matplotlib.pyplot as plt\n",
    "\n",
    "# The line segment is represented by 'left_point' and 'right_point'. \n",
    "left_point = [-2, 2]\n",
    "right_point = [2, -2]\n",
    "plus_pos = [1, 1] #or [-1, -1]\n",
    "\n",
    "# The following lines produce the plots. Try run the code.  \n",
    "# See the documentation at https://matplotlib.org/contents.html\n",
    "plt.plot([left_point[0], right_point[0]], [left_point[1], right_point[1]], 'k--', linewidth=4, label='theta.T x = 0')\n",
    "plt.plot(plus_pos[0], plus_pos[1],'r', marker='+', markersize = 16, linewidth=4)\n",
    "plt.legend()\n",
    "plt.show()\n"
   ]
  },
  {
   "cell_type": "markdown",
   "metadata": {
    "pycharm": {
     "name": "#%% md\n"
    }
   },
   "source": [
    "# Question 4\n",
    "## By hand\n",
    "Define \n",
    "$\n",
    "A =\n",
    " \\begin{bmatrix}\n",
    "  -3 & 6 & 6 & 6 \\\\\n",
    "  7 & 9 & 0 & 2 \\\\\n",
    "  42  & 0  & 3 & -5  \\\\\n",
    "  0 & 0 & 7 & 4\\\\\n",
    " \\end{bmatrix}\n",
    " $,\n",
    " \n",
    " $\n",
    "e_3 = \\begin{bmatrix}\n",
    "    0\\\\\n",
    "    0\\\\\n",
    "    1\\\\\n",
    "    0\\\\\n",
    "    \\end{bmatrix}\n",
    "$,\n",
    " and \n",
    "$\n",
    "e_2 = \\begin{bmatrix}\n",
    "    0\\\\\n",
    "    1\\\\\n",
    "    0\\\\\n",
    "    0\\\\\n",
    "    \\end{bmatrix}\n",
    "$\n",
    "\n",
    "What are the matrix vector products:\n",
    "    $Ae_3$,\n",
    "    $Ae_2$ and\n",
    "    $A(4e_3 + 2e_2)$?\n",
    "\n",
    "$Ae_3 = A[3,:] = \\begin{bmatrix}6 \\\\ 0 \\\\ 3 \\\\ 7\\end{bmatrix}$\n",
<<<<<<< HEAD
=======
    "\n",
    "$Ae_2 = A[2,:] = \\begin{bmatrix}6 \\\\ 9 \\\\ 0 \\\\ 0\\end{bmatrix}$\n",
>>>>>>> ongoing
    "\n",
    "$Ae_2 = A[2,:] = \\begin{bmatrix}6 \\\\ 9 \\\\ 0 \\\\ 0\\end{bmatrix}$\n",
    "\n",
<<<<<<< HEAD
    "$A(4e_3 + 2e_2) = 4Ae_3 + 2Ae_2 = \\begin{bmatrix} 36 \\\\ 18 \\\\ 12 \\\\ 28 \\end{bmatrix}$ Maybe\n",
    "\n",
=======
>>>>>>> ongoing
    "## In code\n",
    "The code below represents $e_3$ and $e_2$ as arrays and 'A' as a 2-dimensional array. Read and understand the code. Fill in the missing lines and use the code to check your solution. \n"
   ]
  },
  {
   "cell_type": "code",
<<<<<<< HEAD
   "execution_count": 5,
   "metadata": {
    "pycharm": {
     "name": "#%%\n"
    }
   },
=======
   "execution_count": 50,
   "metadata": {},
>>>>>>> ongoing
   "outputs": [
    {
     "name": "stdout",
     "output_type": "stream",
     "text": [
      "Ae3:  [6 0 3 7]\n",
      "Ae2:  [6 9 0 0]\n",
      "A(4e3+2e2):  [36 18 12 28]\n"
     ]
    }
   ],
   "source": [
    "# In python you can extract the i'th column by A[:, i-1] (notice that the columns are 0 indexed)\n",
    "A = np.array([[-3, 6,6,6], [7,9,0,2], [42,0,3, -5], [0, 0, 7, 4]])\n",
    "e3 = np.array([0,0,1,0])\n",
    "e2 = np.array([0,1,0,0])\n",
    "\n",
    "eh = lambda v : np.array([A[:, i]*v[i] for i in range(len(v))])\n",
    "meh = lambda v : np.array([sum(eh(v)[:, i]) for i in range(len(v))])\n",
    "Ae3 = meh(e3)\n",
    "Ae3 = A @ e3\n",
    "Ae2 = meh(e2)\n",
    "Ae2 = A @ e2\n",
    "A4e3_2e2 = 4*Ae3 + 2*Ae2\n",
    "\n",
    "print('Ae3: ', Ae3)\n",
    "print('Ae2: ', Ae2)\n",
    "print('A(4e3+2e2): ', A4e3_2e2)\n"
   ]
  },
  {
   "cell_type": "markdown",
   "metadata": {
    "pycharm": {
     "name": "#%% md\n"
    }
   },
   "source": [
    "\n",
    "## Bonus Algorithm Question\n",
    "Can you give a simple algorithm for matrix vector multplication of an $n \\times n$ matrix with a $n \\times 1$ where the vector has only $k$ nonzero entries that works in $O(kn)$ time instead of $O(n^2)$ for standard matrix vector multiplication?\n",
    "\n",
    "# Question 5\n",
    "## By hand\n",
    "Let $f(x) = (0.5x +2)^2$ \n",
    "\n",
    "What is the gradient: $\\nabla_x f(x)$? (it is also denoted by $f'$)\n",
    "                                           \n",
    "What is the hessian: $\\nabla_x^2 f(x)$? (it is also denoted by $f''$)\n",
    "\n",
    "What is $\\nabla f(1/2)$? \n",
    "\n",
    "HINT: <a href=\"https://en.wikipedia.org/wiki/Chain_rule\" target=\"_blank\">https://en.wikipedia.org/wiki/Chain_rule  \n",
    "</a>  \n",
    "\n",
    "$f(x) = (0.5x+2)^2$\n",
    "\n",
    "$\\nabla_xf(x) = 2(0.5x+2)\\cdot0.5 = 0.5x+2$\n",
    "\n",
    "$\\nabla^2_xf(x) = 0.5$\n",
    "\n",
    "$\\nabla f(1/2) = 2.25$\n",
    "\n",
    "## In code\n",
    "Check the above by running the code below."
   ]
  },
  {
   "cell_type": "code",
<<<<<<< HEAD
   "execution_count": 6,
   "metadata": {
    "pycharm": {
     "name": "#%%\n"
    }
   },
=======
   "execution_count": 51,
   "metadata": {},
>>>>>>> ongoing
   "outputs": [
    {
     "name": "stdout",
     "output_type": "stream",
     "text": [
      "nablaf:  nablaf = lambda x: 0.5*x + 2\n",
      "\n",
      "hessian:  hessian = lambda x: 0.5\n",
      "\n",
      "f'(1/2):  2.25\n"
     ]
    },
    {
     "data": {
      "text/plain": "<Figure size 432x288 with 1 Axes>",
      "image/png": "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\n"
     },
     "metadata": {
      "needs_background": "light"
     },
     "output_type": "display_data"
    }
   ],
   "source": [
    "# Write the gradient in the lambda function below (instead of None).\n",
    "f = lambda x: (0.5*x+2)**2\n",
    "nablaf = lambda x: 0.5*x + 2\n",
    "hessian = lambda x: 0.5\n",
    "\n",
    "import inspect\n",
    "print('nablaf: ', inspect.getsource(nablaf))\n",
    "print('hessian: ', inspect.getsource(hessian))\n",
    "z = 1.0/2.0\n",
    "nabla_f_z = nablaf(z)\n",
    "print(\"f'(1/2): \", nabla_f_z)\n",
    "xs = np.linspace(-3, 3, 300)\n",
    "plt.plot(xs, [f(y) for y in xs], 'b-', label='f(x)')\n",
    "tangent_x = [z-1, z+1]\n",
    "tangent_y = [f(z) - nabla_f_z, f(z) + nabla_f_z]\n",
    "plt.plot(tangent_x, tangent_y, 'r-', label='Derivative at {0}'.format(z))\n",
    "plt.legend()\n",
    "plt.show()"
   ]
  },
  {
   "cell_type": "markdown",
   "metadata": {
    "pycharm": {
     "name": "#%% md\n"
    }
   },
   "source": [
    "# Question 6\n",
    "## By hand\n",
    "Let $f(x_0,x_1) = x_0 x_1 + x_0 ^2 x_1 + 5$\n",
    "\n",
    "What is the matrix of derivatives $\\frac{\\partial f}{\\partial x} = \\left[\\frac{\\partial f}{\\partial\n",
    "  x_0},\\frac{\\partial f}{\\partial x_1}\\right]$?\n",
    "\n",
    "This is a matrix of shape $1 \\times 2$.\n",
    "\n",
    "The gradient, $\\nabla $f is defined as the transpose of that matrix.\n",
    "\n",
<<<<<<< HEAD
    "$\\frac{\\partial}{\\partial x_0}f(x_0,x_1) = x_1 + 2x_1x_0$\n",
=======
    "$\\frac{\\partial}{\\partial x_0}f(x_0,x_1) = x_1 + 2x_1$\n",
>>>>>>> ongoing
    "\n",
    "$\\frac{\\partial}{\\partial x_1}f(x_0,x_1) = x_0 + x_0^2$\n",
    "\n",
    "What is $\\nabla f(2,3)$?\n",
    "\n",
<<<<<<< HEAD
    "$\\nabla f(2,3) = \\begin{bmatrix} x_1 + 2x_1x_0 \\\\ x_0 + x_0^2 \\end{bmatrix}_{2,3} = \\begin{bmatrix} 15 \\\\ 6 \\end{bmatrix}$\n",
=======
    "$\\nabla f(2,3) = \\begin{bmatrix} x_1 + 2x_1 \\\\ x_0 + x_0^2 \\end{bmatrix}_{2,3} = \\begin{bmatrix} 6 \\\\ 12 \\end{bmatrix}$\n",
>>>>>>> ongoing
    "\n",
    "## In code\n",
    "Check the above by running the code below."
   ]
  },
  {
   "cell_type": "code",
<<<<<<< HEAD
   "execution_count": 7,
   "metadata": {
    "pycharm": {
     "name": "#%%\n"
    }
   },
=======
   "execution_count": 52,
   "metadata": {},
>>>>>>> ongoing
   "outputs": [
    {
     "name": "stdout",
     "output_type": "stream",
     "text": [
      "nabla f(2,3):  (None, None)\n"
     ]
    }
   ],
   "source": [
    "# Write the matrix of derivatives in the lambda function below\n",
    "# Remember that pow is ** in python\n",
    "nablaf = lambda x: (None, None)\n",
    "\n",
    "### YOUR CODE HERE\n",
    "### END CODE\n",
    "\n",
    "x = np.array([2.0, 3.0])\n",
    "print('nabla f(2,3): ', nablaf(x))\n"
   ]
  },
  {
   "cell_type": "markdown",
   "metadata": {
    "pycharm": {
     "name": "#%% md\n"
    }
   },
   "source": [
    "# Question 7\n",
    "## By hand\n",
    "Let $X$ be random variable that takes values in $1,\\dots,n$ each with probability $1/n$. \n",
    "\n",
    "In other words, $\\Pr\\left(x =i\\right) = \\frac{1}{n}$ for $i=1,\\dots, n$. \n",
    "\n",
    "What is the expected value of $X$, i.e. $\\mathbb{E}[X]$?\n",
    "\n",
    "HINT: <a href=\"https://en.wikipedia.org/wiki/Expected_value#Definition\" target=\"_blank\">https://en.wikipedia.org/wiki/Expected_value#Definition</a>\n",
    "\n",
<<<<<<< HEAD
    "$\\sum_{i=1}^n \\frac{x_i}{n}$\n",
=======
    "$\\frac{\\sum_{i=1}^n x_i}{n}$\n",
>>>>>>> ongoing
    "\n",
    "## In code\n",
    "Check your answer by inserting it in the code below. \n"
   ]
  },
  {
   "cell_type": "code",
<<<<<<< HEAD
   "execution_count": 8,
   "metadata": {
    "pycharm": {
     "name": "#%%\n"
    }
   },
=======
   "execution_count": 53,
   "metadata": {},
>>>>>>> ongoing
   "outputs": [
    {
     "name": "stdout",
     "output_type": "stream",
     "text": [
      "for n = 10: teachers guess 5.5:  5.5\n",
      "for n = 2: teachers guess 1.5:  1.5\n"
     ]
    }
   ],
   "source": [
    "# Write the expected value as a function of n in the lambda function below\n",
    "en = lambda n: sum(range(n+1))/n\n",
    "\n",
    "print('for n = 10: teachers guess 5.5: ', en(10))\n",
    "print('for n = 2: teachers guess 1.5: ', en(2))\n"
   ]
  },
  {
   "cell_type": "markdown",
   "metadata": {
    "pycharm": {}
   },
   "source": [
    "# Question 8\n",
    "## By hand\n",
    "A couple decides to have children until they get a boy. Assume the probability of getting a boy is always 0.5.\n",
    "\n",
    "What is the maximal number of children the couple may get?\n",
    "\n",
    "$x : x \\to \\infty$\n",
    "\n",
    "What is the expected number of children the couple gets?\n",
    "\n",
    "$\\mathbb{P}(E(Geometric(0.5)) = \\frac{1}{0.5} = 2)$"
   ]
  },
  {
   "cell_type": "markdown",
   "metadata": {
    "pycharm": {
     "name": "#%% md\n"
    }
   },
   "source": [
    "# Question 9\n",
    "## By hand\n",
    "You roll two fair six sided dice, $d_1,d_2$, independently at random. \n",
    "Let $X=d_1+d_2$ denote the random variable that is the sum of the two\n",
    "die.\n",
    "\n",
    "1. Is $X$ independent from $d_1$?\n",
    "\n",
    "No, since X is defined by $d_1$\n",
    "\n",
    "2. What is $P(X=7 \\mid d_1 = 4)$?\n",
    "\n",
    "$P(X=7 \\mid d_1 = 4) = \\frac{P(X=7 \\cap d_1=4)}{P(d_1=4)} = \\frac{1/36}{1/6} = \\frac{1}{6}$\n",
    "\n",
    "3. What is $P(X = 12 \\wedge d_1 = 6)$?\n",
    "\n",
    "$P(X=12 \\land d_1=6) = P(X=12) = \\frac{1}{36}$\n",
    "\n",
    "4. What is $P(d_1 = 6 \\mid X = 12)$?\n",
    "\n",
    "$P(d_1 = 6 \\mid X = 12) = \\frac{P(X=12 \\mid d_1=6)P(d_1=6)}{P(X=12)} = \\frac{1/36}{1/36} = 1$\n",
    "\n",
    "5. What is $P(d_1 = 5 \\mid X = 11)$?\n",
    "\n",
    "$P(d_1 = 5 \\mid X = 11) = \\frac{P(X=11 \\mid d_1=5)P(d_1=5)}{P(X=11)} = \\frac{1/36}{2/36} = 0.5$\n",
    "\n",
    "HINT: <a href=\"https://en.wikipedia.org/wiki/Independence_(probability_theory)\" target=\"_blank\">https://en.wikipedia.org/wiki/Independence_(probability_theory)</a>\n",
    "\n",
    "## In code\n",
    "Let's solve problems 2-5 by counting. We will show you how to use numpy array and filters to achieve this for question number 2 and then you do the rest. \n",
    "\n",
    "You will need the Python techniques from below in later handins. "
   ]
  },
  {
   "cell_type": "code",
<<<<<<< HEAD
   "execution_count": 9,
   "metadata": {
    "pycharm": {
     "name": "#%%\n"
    }
   },
=======
   "execution_count": 54,
   "metadata": {},
>>>>>>> ongoing
   "outputs": [
    {
     "name": "stdout",
     "output_type": "stream",
     "text": [
      "The possible events (d_1, d_2, d_1+d_2): \n",
      " [(1, 1, 2), (1, 2, 3), (1, 3, 4), (1, 4, 5), (1, 5, 6), (1, 6, 7), (2, 1, 3), (2, 2, 4), (2, 3, 5), (2, 4, 6), (2, 5, 7), (2, 6, 8), (3, 1, 4), (3, 2, 5), (3, 3, 6), (3, 4, 7), (3, 5, 8), (3, 6, 9), (4, 1, 5), (4, 2, 6), (4, 3, 7), (4, 4, 8), (4, 5, 9), (4, 6, 10), (5, 1, 6), (5, 2, 7), (5, 3, 8), (5, 4, 9), (5, 5, 10), (5, 6, 11), (6, 1, 7), (6, 2, 8), (6, 3, 9), (6, 4, 10), (6, 5, 11), (6, 6, 12)] \n",
      "\n",
      "As a matrix:\n",
      " [[ 1  1  2]\n",
      " [ 1  2  3]\n",
      " [ 1  3  4]\n",
      " [ 1  4  5]\n",
      " [ 1  5  6]\n",
      " [ 1  6  7]\n",
      " [ 2  1  3]\n",
      " [ 2  2  4]\n",
      " [ 2  3  5]\n",
      " [ 2  4  6]\n",
      " [ 2  5  7]\n",
      " [ 2  6  8]\n",
      " [ 3  1  4]\n",
      " [ 3  2  5]\n",
      " [ 3  3  6]\n",
      " [ 3  4  7]\n",
      " [ 3  5  8]\n",
      " [ 3  6  9]\n",
      " [ 4  1  5]\n",
      " [ 4  2  6]\n",
      " [ 4  3  7]\n",
      " [ 4  4  8]\n",
      " [ 4  5  9]\n",
      " [ 4  6 10]\n",
      " [ 5  1  6]\n",
      " [ 5  2  7]\n",
      " [ 5  3  8]\n",
      " [ 5  4  9]\n",
      " [ 5  5 10]\n",
      " [ 5  6 11]\n",
      " [ 6  1  7]\n",
      " [ 6  2  8]\n",
      " [ 6  3  9]\n",
      " [ 6  4 10]\n",
      " [ 6  5 11]\n",
      " [ 6  6 12]]\n",
      "\n",
      "Let's figure out what is P( d1+d2=7 | d1=4 ):\n",
      "\n",
      " Number of events where d1 equals 4: 6\n",
      " How many of these have d1+d2 = 7? To answer this, let's see the possibilities!\n",
      " The following are all the events where d1 equals 4:\n",
      " [[ 4  1  5]\n",
      " [ 4  2  6]\n",
      " [ 4  3  7]\n",
      " [ 4  4  8]\n",
      " [ 4  5  9]\n",
      " [ 4  6 10]]\n",
      "\n",
      " Hence:\n",
      "  P(X=7 | d_1 = 4) = 1/6 = 0.16666666666666666\n",
      "\n",
      "You should be able to answer the remaining questions the same way\n",
      "\n",
      "P(X=12 and d_1 = 6):  0.027777777777777776\n",
      "P(d_1=6 given X = 12):  1.0\n",
      "P(d_1=5 given X = 11):  0.5\n"
     ]
    }
   ],
   "source": [
    "dice_events = [(i,j, i+j) for i in range(1,7) for j in range(1,7)]\n",
    "print('The possible events (d_1, d_2, d_1+d_2): \\n', dice_events,'\\n')\n",
    "matrix_of_events = np.array(dice_events) \n",
    "print('As a matrix:\\n', matrix_of_events)\n",
    "\n",
    "m = matrix_of_events # shortcut\n",
    "\n",
    "print('\\nLet\\'s figure out what is P( d1+d2=7 | d1=4 ):')\n",
    "d1_filter = m[:,0] == 4 # filter that finds all 4's in the first column, which is d_1\n",
    "print('\\n Number of events where d1 equals 4:', d1_filter.sum())\n",
    "print(' How many of these have d1+d2 = 7? To answer this, let\\'s see the possibilities!')\n",
    "fm = m[d1_filter,:] # extract d_1 = 4 using the filter\n",
    "print(' The following are all the events where d1 equals 4:\\n', fm)\n",
    "\n",
    "print('\\n Hence:\\n  P(X=7 | d_1 = 4) = {0}/{1} = {2}'.format((fm[:,2]==7).sum(), d1_filter.sum(), (fm[:,2]==7).mean())) # more filters and use np.sum, np.mean to compute the probabilities\n",
    "print('\\nYou should be able to answer the remaining questions the same way\\n')\n",
    "\n",
    "px_12_and_d1_6 = None\n",
    "pd1_6_given_X_12 = None\n",
    "pd1_5_given_X_11 = None\n",
    "\n",
    "filter = lambda m, i, val: m[m[:,i]==val, :]\n",
    "eh = filter(m, 2, 12)\n",
    "meh = filter(eh, 0, 6)\n",
    "px_12_and_d1_6 = len(meh)/len(m)\n",
    "\n",
    "eh = filter(m, 2, 12)\n",
    "meh = filter(eh, 0, 6)\n",
    "pd1_6_given_X_12 = len(meh)/len(eh)\n",
<<<<<<< HEAD
    "\n",
    "eh = filter(m, 2, 11)\n",
    "meh = filter(eh, 0, 5)\n",
    "pd1_5_given_X_11 = len(meh)/len(eh)\n",
    "\n",
=======
    "\n",
    "eh = filter(m, 2, 11)\n",
    "meh = filter(eh, 0, 5)\n",
    "pd1_5_given_X_11 = len(meh)/len(eh)\n",
    "\n",
>>>>>>> ongoing
    "print('P(X=12 and d_1 = 6): ', px_12_and_d1_6)\n",
    "print('P(d_1=6 given X = 12): ', pd1_6_given_X_12)\n",
    "print('P(d_1=5 given X = 11): ', pd1_5_given_X_11)"
   ]
  },
  {
   "cell_type": "markdown",
   "metadata": {
    "pycharm": {
     "name": "#%% md\n"
    }
   },
   "source": [
    "# Question 10\n",
    "## By hand\n",
    "Consider the following table describing the joint probability\n",
    "distribution $P(X,Y)$. \n",
    "\n",
    "$\n",
    "P=\n",
    "\\begin{bmatrix}\n",
    "X & Y & P(X, Y)\\\\ \n",
    "1 & 1 & 0.1\\\\\n",
    "1 & 2 & 0.1 \\\\\n",
    "1 & 3 & 0.2\\\\\n",
    "2 & 1 & 0.1\\\\\n",
    "2 & 2 & 0.2\\\\\n",
    "2 & 3 & 0.3\\\\\n",
    "\\end{bmatrix}\n",
    "$\n",
    "\n",
    "What is $P(X=1)$?\n",
    "\n",
    "$P(X=1) = 0.1 + 0.1 + 0.2 = 0.4$\n",
    "\n",
    "What is $P(X + Y =4)?$\n",
    "\n",
    "$P(X+Y=4) = 0.2 + 0.2 = 0.4$\n",
    "\n",
    "HINT: <a href=\"https://en.wikipedia.org/wiki/Joint_probability_distribution\" target=\"_blank\">https://en.wikipedia.org/wiki/Joint_probability_distribution</a>\n",
    "\n",
    "## In code\n",
    "The Python code below computes the answer for the first question. Check your answer, then modify the code to compute $\\Pr(X+Y=4)$. "
   ]
  },
  {
   "cell_type": "code",
<<<<<<< HEAD
   "execution_count": 10,
=======
   "execution_count": 55,
   "metadata": {
    "pycharm": {
     "name": "#%%\n"
    }
   },
>>>>>>> ongoing
   "outputs": [
    {
     "name": "stdout",
     "output_type": "stream",
     "text": [
      "matrix:\n",
      " X, Y, X+Y, P(X, Y)\n",
      "[[1.  1.  2.  0.1]\n",
      " [1.  2.  3.  0.1]\n",
      " [1.  3.  4.  0.2]\n",
      " [2.  1.  3.  0.1]\n",
      " [2.  2.  4.  0.2]\n",
      " [2.  3.  5.  0.3]]\n",
      "Sum of the values in the probability column: 1.0 \n",
      "\n",
      "P(X=1):  0.4\n",
      "P(X+Y=4):  0.3333333333333333\n"
     ]
    }
   ],
   "source": [
    "x = np.array([1, 1, 1, 2, 2, 2])\n",
    "y = np.array([1, 2, 3, 1, 2, 3])\n",
    "xplusy = x+y\n",
    "pxy = np.array([0.1, 0.1, 0.2, 0.1, 0.2,0.3])\n",
    "m = np.c_[x, y, xplusy, pxy]\n",
    "print('matrix:\\n X, Y, X+Y, P(X, Y)')\n",
    "print(m)\n",
    "print('Sum of the values in the probability column:', m[:, 3].sum(),'\\n')\n",
    "\n",
    "pxplusy4 = -1\n",
    "\n",
    "pxis1 = m[m[:,0] == 1, 3].sum()\n",
    "\n",
    "pxplusy4 = len(filter(m,2,4))/(len(m))\n",
    "\n",
    "print('P(X=1): ', pxis1)\n",
    "print('P(X+Y=4): ', pxplusy4)"
<<<<<<< HEAD
   ],
   "metadata": {
    "collapsed": false,
    "pycharm": {
     "name": "#%%\n"
    }
   }
=======
   ]
>>>>>>> ongoing
  }
 ],
 "metadata": {
  "anaconda-cloud": {},
  "kernelspec": {
   "display_name": "Python 3",
   "language": "python",
   "name": "python3"
  },
  "language_info": {
   "codemirror_mode": {
    "name": "ipython",
    "version": 3
   },
   "file_extension": ".py",
   "mimetype": "text/x-python",
   "name": "python",
   "nbconvert_exporter": "python",
   "pygments_lexer": "ipython3",
   "version": "3.6.10"
  },
  "stem_cell": {
   "cell_type": "raw",
   "metadata": {
    "pycharm": {
     "metadata": false
    }
   },
   "source": ""
  }
 },
 "nbformat": 4,
 "nbformat_minor": 4
}